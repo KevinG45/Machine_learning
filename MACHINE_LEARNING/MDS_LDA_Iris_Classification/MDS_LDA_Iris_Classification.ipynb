{
 "cells": [
  {
   "cell_type": "code",
   "execution_count": 1,
   "metadata": {},
   "outputs": [
    {
     "name": "stdout",
     "output_type": "stream",
     "text": [
      "Accuracy on original features: 98.00%\n",
      "Accuracy on MDS-reduced features: 96.00%\n"
     ]
    }
   ],
   "source": [
    "import numpy as np\n",
    "from sklearn import datasets\n",
    "from sklearn.manifold import MDS\n",
    "from sklearn.discriminant_analysis import LinearDiscriminantAnalysis as LDA\n",
    "from sklearn.model_selection import cross_val_score\n",
    "\n",
    "# 1. Load the IRIS dataset\n",
    "iris = datasets.load_iris()\n",
    "X, y = iris.data, iris.target\n",
    "\n",
    "# 2. LDA classification on the original dataset\n",
    "lda_original = LDA()\n",
    "scores_original = cross_val_score(lda_original, X, y, cv=5)\n",
    "mean_original = np.mean(scores_original)\n",
    "print(\"Accuracy on original features: {:.2f}%\".format(mean_original * 100))\n",
    "\n",
    "# 3. Dimensionality reduction using MDS (reducing to 2 dimensions)\n",
    "mds = MDS(n_components=2, random_state=42)\n",
    "X_mds = mds.fit_transform(X)\n",
    "\n",
    "# 4. LDA classification on the MDS-reduced dataset\n",
    "lda_mds = LDA()\n",
    "scores_mds = cross_val_score(lda_mds, X_mds, y, cv=5)\n",
    "mean_mds = np.mean(scores_mds)\n",
    "print(\"Accuracy on MDS-reduced features: {:.2f}%\".format(mean_mds * 100))\n"
   ]
  },
  {
   "cell_type": "markdown",
   "metadata": {},
   "source": [
    "Full Features (98%): All discriminative information is retained, leading to excellent classification.<br>\n",
    "MDS-Reduced (96%): Slight information loss occurs during dimensionality reduction, causing a small drop in accuracy."
   ]
  },
  {
   "cell_type": "code",
   "execution_count": null,
   "metadata": {},
   "outputs": [],
   "source": []
  }
 ],
 "metadata": {
  "kernelspec": {
   "display_name": "Python 3",
   "language": "python",
   "name": "python3"
  },
  "language_info": {
   "codemirror_mode": {
    "name": "ipython",
    "version": 3
   },
   "file_extension": ".py",
   "mimetype": "text/x-python",
   "name": "python",
   "nbconvert_exporter": "python",
   "pygments_lexer": "ipython3",
   "version": "3.12.5"
  }
 },
 "nbformat": 4,
 "nbformat_minor": 2
}
